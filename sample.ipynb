{
 "cells": [
  {
   "cell_type": "markdown",
   "metadata": {},
   "source": [
    "# Trying out \"pythonic\" patterns\n",
    "\n",
    "https://www.python.org/dev/peps/pep-0008/\n",
    "\n"
   ]
  },
  {
   "source": [
    "## Lists\n",
    "\n"
   ],
   "cell_type": "markdown",
   "metadata": {}
  },
  {
   "cell_type": "code",
   "execution_count": 6,
   "metadata": {
    "tags": []
   },
   "outputs": [
    {
     "output_type": "execute_result",
     "data": {
      "text/html": "<table><thead><tr><th><i>index</i></th><th>value</th></tr></thead><tbody><tr><td>0</td><td>0</td></tr><tr><td>1</td><td>2</td></tr><tr><td>2</td><td>4</td></tr></tbody></table>"
     },
     "metadata": {},
     "execution_count": 6
    }
   ],
   "source": [
    "[for i in [0..2] do i*2]"
   ]
  },
  {
   "cell_type": "code",
   "execution_count": 7,
   "metadata": {
    "tags": []
   },
   "outputs": [
    {
     "output_type": "execute_result",
     "data": {
      "text/html": "<table><thead><tr><th><i>index</i></th><th>value</th></tr></thead><tbody><tr><td>0</td><td>5</td></tr></tbody></table>"
     },
     "metadata": {},
     "execution_count": 7
    }
   ],
   "source": [
    "let a = [3; 4; 5]\n",
    "let b = [for i in a do if i > 4 then yield i]\n",
    "// Or:\n",
    "List.filter (fun x-> x > 4) a"
   ]
  },
  {
   "cell_type": "code",
   "execution_count": 8,
   "metadata": {},
   "outputs": [
    {
     "output_type": "execute_result",
     "data": {
      "text/html": "<table><thead><tr><th><i>index</i></th><th>value</th></tr></thead><tbody><tr><td>0</td><td>6</td></tr><tr><td>1</td><td>7</td></tr><tr><td>2</td><td>8</td></tr></tbody></table>"
     },
     "metadata": {},
     "execution_count": 8
    }
   ],
   "source": [
    "let a = [3; 4; 5]\n",
    "let a' = [for i in a do yield i + 3 ]\n",
    "// Or:\n",
    "List.map (fun i-> i + 3) a"
   ]
  },
  {
   "source": [
    "## Classes\n"
   ],
   "cell_type": "markdown",
   "metadata": {}
  },
  {
   "cell_type": "code",
   "execution_count": 9,
   "metadata": {
    "tags": []
   },
   "outputs": [
    {
     "output_type": "stream",
     "name": "stdout",
     "text": "Here is my pet snake:\n---> Getting current age\nShe is namedSlide and6 years old.\n---> Setting age to7\n---> Getting current age\nShe is namedSlide and7 years old.\n"
    },
    {
     "output_type": "execute_result",
     "data": {
      "text/html": "<null>"
     },
     "metadata": {},
     "execution_count": 9
    }
   ],
   "source": [
    "type PetSnake(name, age)=\n",
    "    let _protected_val = 2\n",
    "    let mutable __age = age\n",
    "    member val is_protected = _protected_val > 5\n",
    "    member val name= name\n",
    "    member this.age with get () =\n",
    "        printfn \"---> Getting current age\"\n",
    "        __age\n",
    "    member this.age with set (value)=\n",
    "        printfn \"---> Setting age to %d\" value\n",
    "        __age <- value\n",
    "printfn(\"Here is my pet snake:\")\n",
    "let py = PetSnake(\"Slide\", 6) \n",
    "printfn \"She is named %s and %d years old.\" py.name py.age\n",
    "py.age <- 7\n",
    "printfn \"She is named %s and %d years old.\" py.name py.age\n"
   ]
  },
  {
   "source": [],
   "cell_type": "markdown",
   "metadata": {}
  },
  {
   "source": [],
   "cell_type": "markdown",
   "metadata": {}
  }
 ],
 "metadata": {
  "kernelspec": {
   "display_name": ".NET (F#)",
   "language": "F#",
   "name": ".net-fsharp"
  },
  "language_info": {
   "file_extension": ".fs",
   "mimetype": "text/x-fsharp",
   "name": "C#",
   "pygments_lexer": "fsharp",
   "version": "3.8.5-final"
  }
 },
 "nbformat": 4,
 "nbformat_minor": 4
}